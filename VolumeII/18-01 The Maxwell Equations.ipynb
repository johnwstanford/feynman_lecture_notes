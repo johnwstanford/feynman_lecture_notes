{
 "cells": [
  {
   "cell_type": "markdown",
   "metadata": {},
   "source": [
    "Before Maxwell, the equations that became Maxwell's equations didn't form a single consistent system.  They were:\n",
    "\n",
    "- <font color=green>Gauss's Law (1773/1813)</font>\n",
    "- <font color=orange>The Law with No Name[1] (\"There are no magnetic monopoles\")</font>\n",
    "- <font color=blue>Faraday's Law (1831)</font>\n",
    "- Ampere's Law (1827)\n",
    "\n",
    "Maxwell made an addition to Ampere's Law in 1861.  Ampere's original law (in modern notation) is:\n",
    "\n",
    "$$\\vec \\nabla \\times \\vec B = \\frac{\\vec j}{\\epsilon_0 c^2}$$\n",
    "\n",
    "Maxwell noticed that if you take the divergence of each side, you get this (since the divergence of any curl is zero):\n",
    "\n",
    "$$\\vec \\nabla \\cdot \\vec j = 0$$\n",
    "\n",
    "Since this has to be true in general, it must mean that there can't be any current anywhere, which can't be right.  Maxwell added another term to fix this:\n",
    "\n",
    "<font color=red>$$c^2 \\vec \\nabla \\times \\vec B = \\frac{\\vec j}{\\epsilon_0} + \\frac{\\partial \\vec E}{\\partial t}$$</font>\n",
    "\n",
    "This is <font color=red>Ampere's Law with Maxwell's Addition</font>[2].  Now if we take the divergence of both sides, we can follow a few steps that lead to the equation for conservation of charge:\n",
    "<table>\n",
    "    <tr><td>$$0 = \\vec \\nabla \\cdot \\frac{\\vec j}{\\epsilon_0} + \\vec \\nabla \\cdot \\frac{\\partial \\vec E}{\\partial t}$$</td><td>Take the divergence of both sides</td>\n",
    "    <tr><td>$$0 = \\vec \\nabla \\cdot \\frac{\\vec j}{\\epsilon_0} + \\frac{\\partial }{\\partial t} \\vec \\nabla \\cdot \\vec E$$</td><td>Interchange the order of differentiation</td>\n",
    "    <tr><td>$$0 = \\vec \\nabla \\cdot \\frac{\\vec j}{\\epsilon_0} + \\frac{\\partial }{\\partial t} \n",
    "    (\\rho / \\epsilon_0)$$</td><td>Apply Gauss's Law</td>\n",
    "    <tr><td>$$0 = \\vec \\nabla \\cdot \\vec j + \\frac{\\partial \\rho}{\\partial t}$$</td><td>Cancel $1 / \\epsilon_0$</td>\n",
    "    <tr><td>$$\\vec \\nabla \\cdot \\vec j = -\\frac{\\partial \\rho}{\\partial t}$$</td><td>Conservation of charge</td>\n",
    "</table>\n",
    "    \n",
    "In his lectures, Feynman says that the new term \"doesn't do anything interesting on it's own\" and this is what he means.  All it really does is enforce conservation of charge."
   ]
  },
  {
   "cell_type": "markdown",
   "metadata": {},
   "source": [
    "# Footnotes\n",
    "[1]: I originally wanted to list all the equations that became Maxwell's equations and the years in which they were originally formulated.  I was a little bothered when I couldn't find a name or year for the equation that says that the divergence of the magnetic field is zero.  As I thought about it, I decided that I actually kind of like just calling it \"The Law with No Name\".\n",
    "\n",
    "\n",
    "[2]: Maxwell's equations show up in a lot of different forms and I like to make them stand out, so I color-code them.  Ampere's Law with Maxwell's Addition shows is red, for example."
   ]
  }
 ],
 "metadata": {
  "kernelspec": {
   "display_name": "Python 3",
   "language": "python",
   "name": "python3"
  },
  "language_info": {
   "codemirror_mode": {
    "name": "ipython",
    "version": 3
   },
   "file_extension": ".py",
   "mimetype": "text/x-python",
   "name": "python",
   "nbconvert_exporter": "python",
   "pygments_lexer": "ipython3",
   "version": "3.7.1"
  }
 },
 "nbformat": 4,
 "nbformat_minor": 2
}
