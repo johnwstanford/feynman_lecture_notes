{
 "cells": [
  {
   "cell_type": "markdown",
   "metadata": {},
   "source": [
    "You can represent a sinusoidal plane wave as $e^{i(\\omega t - \\vec{k} \\cdot \\vec{r})}$.  The vector $\\vec{k}$ points in the direction of propagation and has a magnitude of $2\\pi / \\lambda$ (units of inverse length).  Both terms in the parentheses need to come out unitless after the multiplication.  The phase velocity is $\\omega / k$, which is the velocity of the wave.\n",
    "\n",
    "In this form, differentiation with respect to time is equivalent to multiplcation.\n",
    "\n",
    "<table>\n",
    "    <tr><td>$$\\frac{\\partial}{\\partial t}$$</td><td>$$\\rightarrow$$</td><td>$$i \\omega$$</td>\n",
    "    <tr><td>$$\\vec \\nabla$$</td><td>$$\\rightarrow$$</td><td>$$-i \\vec{k}$$</td>\n",
    "    <tr><td>$$\\vec \\nabla \\times$$</td><td>$$\\rightarrow$$</td><td>$$-i \\vec{k} \\times$$</td>\n",
    "</table>\n",
    "\n",
    "This leads to a quick and elegant way to show that electromagnetic waves travel at the speed of light in a vacuum.  Start with <font color=blue>Faraday's Law</font>.\n",
    "\n",
    "<font color=blue>$$\\vec \\nabla \\times \\vec E = -\\frac{\\partial \\vec B}{\\partial t}$$\n",
    "$$-i \\vec{k} \\times \\vec E = -i \\omega \\vec B$$\n",
    "$$\\vec{k} \\times \\vec E = \\omega \\vec B$$\n",
    "$$\\vec B = \\frac{\\vec{k} \\times \\vec E}{\\omega} $$</font>\n",
    "\n",
    "Next apply the plane wave form to <font color=red>Ampere's Law with Maxwell's Addition</font>.  The current term goes away because this is empty space.\n",
    "\n",
    "<font color=red>$$c^2 \\vec \\nabla \\times \\vec B = \\frac{\\vec j}{\\epsilon_0} + \\frac{\\partial \\vec E}{\\partial t}$$\n",
    "$$c^2 \\vec \\nabla \\times \\vec B = \\frac{\\partial \\vec E}{\\partial t}$$\n",
    "$$ -i c^2 \\vec{k} \\times \\vec B = i \\omega \\vec E$$\n",
    "$$ -c^2 \\vec{k} \\times \\vec B = \\omega \\vec E$$\n",
    "$$ \\vec E = -\\frac{c^2 \\vec{k} \\times \\vec B}{\\omega}$$</font>\n",
    "\n",
    "Now combine the two.\n",
    "\n",
    "$$ \\vec E = -\\frac{c^2 \\vec{k} \\times \\vec B}{\\omega}$$\n",
    "$$ \\vec E = -\\frac{c^2 \\vec{k} \\times \\vec{k} \\times \\vec E}{\\omega^2}$$\n",
    "$$ \\vec E = \\frac{c^2 k^2}{\\omega^2} \\vec E$$\n",
    "$$ 1 = \\frac{c^2 k^2}{\\omega^2}$$\n",
    "$$ c^2 = \\frac{\\omega^2}{k^2}$$\n",
    "$$ c = \\frac{\\omega}{k}$$\n",
    "\n",
    "The $\\omega$ and $k$ terms came from the forms of the plane waves and $c$ came from Maxwell's equations.  The only assumptions we made were that the solution would be in the form of a plane wave and that the electric and magnetic fields have the same frequency."
   ]
  }
 ],
 "metadata": {
  "kernelspec": {
   "display_name": "Python 3",
   "language": "python",
   "name": "python3"
  },
  "language_info": {
   "codemirror_mode": {
    "name": "ipython",
    "version": 3
   },
   "file_extension": ".py",
   "mimetype": "text/x-python",
   "name": "python",
   "nbconvert_exporter": "python",
   "pygments_lexer": "ipython3",
   "version": "3.7.4"
  }
 },
 "nbformat": 4,
 "nbformat_minor": 2
}
