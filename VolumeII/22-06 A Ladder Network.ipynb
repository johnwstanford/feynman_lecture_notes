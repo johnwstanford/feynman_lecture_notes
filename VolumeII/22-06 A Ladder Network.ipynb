{
 "cells": [
  {
   "cell_type": "markdown",
   "metadata": {},
   "source": [
    "Imagine an \"infinite ladder\" network of impedances:\n",
    "\n",
    "![](img/22_06_01.jpg)\n",
    "\n",
    "You can find the impedance of the entire network by adding one more repeating element on top of an impedance $z_0$, which is called the characteristic impedance.\n",
    "\n",
    "![](img/22_06_02.jpg)\n",
    "\n",
    "If the network is infinite, then adding one more repeating element in front shouldn't make a difference.\n",
    "\n",
    "$$z_0 = z_1 + \\frac{1}{1/z_2 + 1/z_0}$$\n",
    "\n",
    "If you solve for $z_0$ the characteristic impedance of the whole network ends up being:\n",
    "\n",
    "$$z_0 = \\frac{z_1}{2} + \\sqrt{(z_1^2/4) + z_1 z_2}$$\n",
    "\n",
    "We can make one of these ladders out of inductors and capacitors:\n",
    "\n",
    "![](img/22_06_03.jpg)\n",
    "\n",
    "$$z_1 = i \\omega L$$\n",
    "$$~$$\n",
    "$$z_2 = \\frac{1}{i \\omega C}$$\n",
    "$$~$$\n",
    "$$z_0 = \\frac{i \\omega L}{2} + \\sqrt{-\\frac{L^2 \\omega^2}{4} + \\frac{L}{C}}$$\n",
    "$$~$$\n",
    "$$z_0 = \\sqrt{\\frac{L}{C} - \\frac{L^2 \\omega^2}{4}} + \\frac{i \\omega L}{2}$$\n",
    "\n",
    "We can cut an $L/2$ inductor off the front to get a simpler expression for almost the same impedance.\n",
    "\n",
    "![](img/22_06_04.jpg)\n",
    "\n",
    "$$z_0 = \\sqrt{\\frac{L}{C} - \\frac{L^2 \\omega^2}{4}}$$\n",
    "\n",
    "You can see that for large values of $\\omega^2$, the characteristic impedance is imaginary whereas for small values, it's real.  The frequency where it switches over is called the cutoff frequency, $\\omega_0$.\n",
    "\n",
    "$$\\frac{L}{C} = \\frac{\\omega_0^2 L^2}{4}$$\n",
    "$$~$$\n",
    "$$\\frac{1}{C} = \\frac{\\omega_0^2 L}{4}$$\n",
    "$$~$$\n",
    "$$\\frac{4}{L C} = \\omega_0^2$$\n",
    "$$~$$\n",
    "$$\\omega_0 = \\sqrt{\\frac{4}{L C}}$$\n",
    "\n",
    "Below the cutoff frequency, the voltage stays the same in every repeating section, but the phase is shifted.  Above the cutoff frequency, the voltage decreases with every section.  We've been describing a low-pass filter.  If you interchange the inductors and capacitors, it becomes a high pass filter.\n",
    "\n",
    "You can't have an infinite series of repeating elements, but you can approximate it with an increasing number of repeating elements with a resistor at the end.  The resistor doesn't have the frequency-dependent part of the expression for the characteristic impedance, but just taking the non-frequency dependent part is the next best thing.  For the low-pass infinite ladder we've been looking at, that's $\\sqrt{L/C}$."
   ]
  }
 ],
 "metadata": {
  "kernelspec": {
   "display_name": "Python 3",
   "language": "python",
   "name": "python3"
  },
  "language_info": {
   "codemirror_mode": {
    "name": "ipython",
    "version": 3
   },
   "file_extension": ".py",
   "mimetype": "text/x-python",
   "name": "python",
   "nbconvert_exporter": "python",
   "pygments_lexer": "ipython3",
   "version": "3.7.3"
  }
 },
 "nbformat": 4,
 "nbformat_minor": 2
}
