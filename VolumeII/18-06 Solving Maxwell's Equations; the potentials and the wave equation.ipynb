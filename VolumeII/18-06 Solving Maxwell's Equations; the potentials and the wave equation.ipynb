{
 "cells": [
  {
   "cell_type": "markdown",
   "metadata": {},
   "source": [
    "Since <font color='orange'>$\\vec \\nabla \\cdot \\vec B = 0$</font>, we can express the magnetic field as the curl of a vector field and satisfy <font color='orange'>The Law with No Name</font> \"for free\".  There is an infinite space of choices for $\\vec A$ given $\\vec B$ because adding the gradient of any scalar function gives the same $\\vec B$.\n",
    "\n",
    "$$ \\vec A' = \\vec A + \\vec \\nabla \\psi $$\n",
    "$$ \\vec B = \\nabla \\times (\\vec A + \\vec \\nabla \\psi) $$\n",
    "$$ \\vec B = \\nabla \\times \\vec A + \\nabla \\times \\vec \\nabla \\psi $$\n",
    "$$ \\vec B = \\nabla \\times \\vec A$$\n",
    "\n",
    "Apply the new representation to <font color='blue'>Faraday's Law</font>\n",
    "\n",
    "<font color='blue'>$$ \\vec \\nabla \\times \\vec E = -\\frac{\\partial \\vec B}{\\partial t} $$</font>\n",
    "<table>\n",
    "    <tr><td>$$\\vec \\nabla \\times \\vec E = -\\frac{\\partial}{\\partial t}(\\vec \\nabla \\times \\vec A)$$</td><td>Substitute vector potential</td>\n",
    "    <tr><td>$$\\vec \\nabla \\times \\vec E = -\\vec \\nabla \\times \\frac{\\partial \\vec A}{\\partial t}$$</td><td>Interchange order of differentiation</td>\n",
    "    <tr><td>$$\\vec \\nabla \\times (\\vec E + \\frac{\\partial \\vec A}{\\partial t}) = 0$$</td><td>Combine curl terms</td>\n",
    "    <tr><td>$$\\vec E + \\frac{\\partial \\vec A}{\\partial t} = -\\nabla \\phi$$</td><td>Represent as a gradient (note negative sign)</td>\n",
    "    <tr><td>$$\\vec E = -\\frac{\\partial \\vec A}{\\partial t} -\\nabla \\phi$$</td><td>Isolate electric field</td>\n",
    "</table>\n",
    "\n",
    "When we transform $\\vec A$ using $\\vec A' = \\vec A + \\vec \\nabla \\psi$, we'll have to also transform $\\phi$ using $\\phi' = \\phi - \\frac{\\partial \\psi}{\\partial t}$ in order to keep $\\vec E$ the same.\n",
    "\n",
    "$$ \\vec E = -\\frac{\\partial}{\\partial t}(\\vec A + \\vec \\nabla \\psi) - \\vec \\nabla (\\phi - \\frac{\\partial \\psi}{\\partial t}) $$\n",
    "$$ \\vec E = -\\frac{\\partial \\vec A}{\\partial t} - \\frac{\\partial}{\\partial t}\\vec \\nabla \\psi - \\vec \\nabla \\phi + \\vec \\nabla \\frac{\\partial \\psi}{\\partial t} $$\n",
    "$$ \\vec E = -\\frac{\\partial \\vec A}{\\partial t} - \\vec \\nabla \\frac{\\partial \\psi}{\\partial t} - \\vec \\nabla \\phi + \\vec \\nabla \\frac{\\partial \\psi}{\\partial t} $$\n",
    "$$ \\vec E = -\\frac{\\partial \\vec A}{\\partial t} - \\vec \\nabla \\phi $$\n",
    "\n",
    "The equations so far let us find the electric and magnetic fields given the vector and scalar potentials.  However, they don't tell us how the vector and scalar potentials will propagate forward in time.  To figure that out, we need to apply these expressions to the other two of Maxwell's equations, starting with <font color='green'>Gauss's Law</font>[1]\n",
    "\n",
    "<font color='green'>$$ \\vec \\nabla \\cdot \\vec E = \\frac{\\rho}{\\epsilon_0} $$</font>\n",
    "$$ \\vec \\nabla \\cdot (-\\frac{\\partial \\vec A}{\\partial t} - \\vec \\nabla \\phi) = \\frac{\\rho}{\\epsilon_0} $$\n",
    "$$ -\\frac{\\partial}{\\partial t}(\\vec \\nabla \\cdot \\vec A) - \\nabla^2 \\phi = \\frac{\\rho}{\\epsilon_0} $$\n",
    "\n",
    "Finally, try <font color='red'>Ampere's Law with Maxwell's Addition</font>\n",
    "\n",
    "<font color='red'>$$c^2 \\vec \\nabla \\times \\vec B = \\frac{\\vec j}{\\epsilon_0} + \\frac{\\partial \\vec E}{\\partial t}$$</font>\n",
    "<font color='red'>$$c^2 \\vec \\nabla \\times \\vec B - \\frac{\\partial \\vec E}{\\partial t}= \\frac{\\vec j}{\\epsilon_0}$$</font>\n",
    "$$c^2 \\vec \\nabla \\times \\vec \\nabla \\times \\vec A - \\frac{\\partial}{\\partial t}(-\\frac{\\partial \\vec A}{\\partial t} - \\vec \\nabla \\phi)= \\frac{\\vec j}{\\epsilon_0}$$\n",
    "$$c^2 \\vec \\nabla \\times \\vec \\nabla \\times \\vec A + \\frac{\\partial^2 \\vec A}{\\partial t^2} + \\vec \\nabla \\frac{\\partial \\phi}{\\partial t}= \\frac{\\vec j}{\\epsilon_0}$$\n",
    "$$c^2 \\vec \\nabla (\\vec \\nabla \\cdot \\vec A) - c^2 \\nabla^2 \\vec A + \\frac{\\partial^2 \\vec A}{\\partial t^2} + \\vec \\nabla \\frac{\\partial \\phi}{\\partial t}= \\frac{\\vec j}{\\epsilon_0}$$\n",
    "\n",
    "These two equations aren't particularly useful in their current form.  However, we can make them useful by taking advantage of the fact that there are many options for $\\vec A$ and we can choose $\\vec A$ so that $\\vec \\nabla \\cdot \\vec A = -\\frac{1}{c^2}\\frac{\\partial \\phi}{\\partial t}$.  This is called \"choosing a gauge\" or \"fixing a gauge\" and this particular choice is called the Lorenz gauge.  Another sometimes-used gauge is the Coulomb gauge, $\\vec \\nabla \\cdot \\vec A = 0$.  The Lorenz gauge is Lorentz invariant (yes, those are different spellings because they're named after two different guys), but the Coulomb gauge isn't.\n",
    "\n",
    "$$ -\\frac{\\partial}{\\partial t}(\\vec \\nabla \\cdot \\vec A) - \\nabla^2 \\phi = \\frac{\\rho}{\\epsilon_0} $$\n",
    "$$ -\\frac{\\partial}{\\partial t}(-\\frac{1}{c^2}\\frac{\\partial \\phi}{\\partial t}) - \\nabla^2 \\phi = \\frac{\\rho}{\\epsilon_0} $$\n",
    "$$ \\frac{1}{c^2}\\frac{\\partial^2 \\phi}{\\partial t^2} - \\nabla^2 \\phi = \\frac{\\rho}{\\epsilon_0} $$\n",
    "\n",
    "We've got a wave equation describing how the scalar potential propagates and it depends only on charges.\n",
    "\n",
    "$$c^2 \\vec \\nabla (\\vec \\nabla \\cdot \\vec A) - c^2 \\nabla^2 \\vec A + \\frac{\\partial^2 \\vec A}{\\partial t^2} + \\vec \\nabla \\frac{\\partial \\phi}{\\partial t}= \\frac{\\vec j}{\\epsilon_0}$$\n",
    "$$c^2 \\vec \\nabla (-\\frac{1}{c^2}\\frac{\\partial \\phi}{\\partial t}) - c^2 \\nabla^2 \\vec A + \\frac{\\partial^2 \\vec A}{\\partial t^2} + \\vec \\nabla \\frac{\\partial \\phi}{\\partial t}= \\frac{\\vec j}{\\epsilon_0}$$\n",
    "$$-\\vec \\nabla \\frac{\\partial \\phi}{\\partial t} - c^2 \\nabla^2 \\vec A + \\frac{\\partial^2 \\vec A}{\\partial t^2} + \\vec \\nabla \\frac{\\partial \\phi}{\\partial t}= \\frac{\\vec j}{\\epsilon_0}$$\n",
    "$$-c^2 \\nabla^2 \\vec A + \\frac{\\partial^2 \\vec A}{\\partial t^2} = \\frac{\\vec j}{\\epsilon_0}$$\n",
    "$$\\frac{\\partial^2 \\vec A}{\\partial t^2} - c^2 \\nabla^2 \\vec A = \\frac{\\vec j}{\\epsilon_0}$$\n",
    "\n",
    "Now we've got a wave equation describing how the vector potential propagates and it depends only on currents.  You can see how both waves propagate at the speed of light."
   ]
  },
  {
   "cell_type": "markdown",
   "metadata": {},
   "source": [
    "# Footnotes\n",
    "[1] I'm using colors throughout these notes to identify Maxwell's equations in their varying forms.  I stop using the color coding after the first step because although you might argue that it's another form of Gauss's Law, once you start using the vector potential, you're implicitly using at least the \"no magnetic monopoles\" law, so it's not only Gauss's Law anymore."
   ]
  }
 ],
 "metadata": {
  "kernelspec": {
   "display_name": "Python 3",
   "language": "python",
   "name": "python3"
  },
  "language_info": {
   "codemirror_mode": {
    "name": "ipython",
    "version": 3
   },
   "file_extension": ".py",
   "mimetype": "text/x-python",
   "name": "python",
   "nbconvert_exporter": "python",
   "pygments_lexer": "ipython3",
   "version": "3.7.1"
  }
 },
 "nbformat": 4,
 "nbformat_minor": 2
}
