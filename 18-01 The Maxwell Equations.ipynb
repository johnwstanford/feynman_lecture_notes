{
 "cells": [
  {
   "cell_type": "markdown",
   "metadata": {},
   "source": [
    "Before Maxwell, the equations that became Maxwell's equations didn't form a single consistent system.  They were:\n",
    "\n",
    "- Gauss's Law (1773/1813)\n",
    "- The Law with No Name (\"There are no magnetic monopoles\")\n",
    "- Faraday's Law (1831)\n",
    "- Ampere's Law (1827)\n",
    "\n",
    "I originally wanted to list all the equations that became Maxwell's equations and which years they were originally formulated.  I was a little bothered when I couldn't find a name or year for the equation that says that the divergence of the magnetic field is zero.  As I thought about it, I decided that I actually kind of like just calling it \"The Law with No Name\".  \n",
    "\n",
    "Maxwell made an addition to Ampere's Law in 1861.  Ampere's original law (in modern notation) is:\n",
    "\n",
    "$$\\vec \\nabla \\times \\vec B = \\frac{\\vec j}{\\epsilon_0 c^2}$$\n",
    "\n",
    "Maxwell noticed that if you take the divergence of each side, you get this (since the divergence of any curl is zero):\n",
    "\n",
    "$$\\vec \\nabla \\cdot \\vec j = 0$$\n",
    "\n",
    "Since this has to be true in general, it must mean that there can't be any current anywhere, which can't be right."
   ]
  },
  {
   "cell_type": "markdown",
   "metadata": {},
   "source": []
  }
 ],
 "metadata": {
  "kernelspec": {
   "display_name": "Python 3",
   "language": "python",
   "name": "python3"
  },
  "language_info": {
   "codemirror_mode": {
    "name": "ipython",
    "version": 3
   },
   "file_extension": ".py",
   "mimetype": "text/x-python",
   "name": "python",
   "nbconvert_exporter": "python",
   "pygments_lexer": "ipython3",
   "version": "3.7.1"
  }
 },
 "nbformat": 4,
 "nbformat_minor": 2
}
