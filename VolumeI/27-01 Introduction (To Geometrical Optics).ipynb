{
 "cells": [
  {
   "cell_type": "markdown",
   "metadata": {},
   "source": [
    "Geometrical optics makes two approximations:\n",
    "- Wavelengths are small relative to the equipment used to detect them\n",
    "- Energy of individual photons are small relative to the sensitivity of the equipment used to detect them\n",
    "\n",
    "This puts geometrical optics in the middle of the electromagnetic spectrum.  \n",
    "\n",
    "At lower frequencies, the wavelengths are closer to the scale of everyday experience and the wave behavior is more obvious.  The short wavelengths are the reason why the wavelike behavior of light wasn't obvious at first.  The wavelike behavior of sound was much more obvious to early scientists because the wavelengths are closer to the scale of everyday experience.  The human voice is somewhere in the range of 200 Hz and sound propagates at about 320 m/s.  This means that the wavelength of the sound made by human voices is somewhere around 1-2 meters.  Visible light wavelengths are in the 380 to 770-nanometer range.  They're both waves, but the scale is why you can hear around corners, but not see around corners."
   ]
  },
  {
   "cell_type": "code",
   "execution_count": 3,
   "metadata": {},
   "outputs": [
    {
     "data": {
      "text/plain": [
       "1.6"
      ]
     },
     "execution_count": 3,
     "metadata": {},
     "output_type": "execute_result"
    }
   ],
   "source": [
    "f_voice = 200.0 # [Hz]\n",
    "v_sound = 320.0 # [m/s]\n",
    "\n",
    "v_sound / f_voice # [m]"
   ]
  },
  {
   "cell_type": "markdown",
   "metadata": {},
   "source": [
    "At higher frequencies, the other approximation of geometrical optics starts to fail.  The approximation that photon energy is small relative to the sensitivity of the equipment means that we can model radiant flux/power as a continuous value.  It's like using the Ideal Gas Law to describe a gas.  Even if we're well aware that gas is made up of discrete molecules, they're so small relative to the scales we're interested in that the continuous model works fine.  As we get out of the region where this approximation works (e.g. ionizing radiation such as gamma rays), the sensitivity of the equipment is on a similar order of magnitude to the energy of individual photons.  A Geiger counter gets its name from the fact that it counts discrete quantities of ionizing radiation.\n",
    "\n",
    "There's one important approximation we'll use in geometrical optics.\n",
    "\n",
    "![](img/27_01_01.jpg)\n",
    "\n",
    "The approximation is that $\\Delta \\approx h^2 / 2s$ and it comes from the following reasoning.\n",
    "\n",
    "$$\\Delta = s-d$$\n",
    "$$~$$\n",
    "$$h^2 + d^2 = s^2 \\quad \\Rightarrow \\quad s^2 - d^2 = h^2$$\n",
    "$$~$$\n",
    "$$h^2 = (s+d)(s-d) = (s+d) \\Delta$$\n",
    "$$~$$\n",
    "$$ s+d \\approx 2 s \\quad \\Rightarrow \\quad \\Delta \\approx h^2 / 2s $$\n",
    "\n",
    "You could use the same reasoning to say that $\\Delta \\approx h^2 / 2d$ but Feynman uses the other form, so I'll stick with that in subsequent sections. "
   ]
  }
 ],
 "metadata": {
  "kernelspec": {
   "display_name": "Python 3",
   "language": "python",
   "name": "python3"
  },
  "language_info": {
   "codemirror_mode": {
    "name": "ipython",
    "version": 3
   },
   "file_extension": ".py",
   "mimetype": "text/x-python",
   "name": "python",
   "nbconvert_exporter": "python",
   "pygments_lexer": "ipython3",
   "version": "3.7.3"
  }
 },
 "nbformat": 4,
 "nbformat_minor": 2
}
