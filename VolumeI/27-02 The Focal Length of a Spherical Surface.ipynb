{
 "cells": [
  {
   "cell_type": "markdown",
   "metadata": {},
   "source": [
    "The real best shape to focus light between two points is a complicated 4th order curve but it's so much easier to make spherical lenses that it's better to use accept the small errors that come with them.  Considering only paraxial rays (rays close to the axis) allows us to use the $\\Delta = h^2 / 2s$ approximation from the previous section.  Consider a spherical interface between air with an index of refraction of 1 (or at least very close to 1) and glass with an index of refraction greater than 1.\n",
    "\n",
    "![](img/27_02_01.jpg)\n",
    "\n",
    "The arc passing through $VQ$ is the interface between air and glass and $R$ is the radius of curvature.  In order to focus using the Principle of Least Time (or Stationary Time, more accurately), we want to make the time between $O$ and $O'$ to be the same through many different paths.  Using the diagram, we want to make the time through the $OQO'$ path the same as through the $OPO'$ path.\n",
    "\n",
    "The excess distance along $OP$ compared to $OQ$ is $h^2/2s$\n",
    "\n",
    "The excess distance along $PO'$ compared to $QO'$ is $h^2/2s'$\n",
    "\n",
    "$PO'$ and $QO'$ are both completely in the glass and the excess time is $\\frac{n h^2}{2 s'}$\n",
    "\n",
    "$VQ$ needs to slow the light down enough to make up for the excess time $\\frac{n h^2}{2 s'}$ plus the time difference between $OV$ and $OP$\n",
    "\n",
    "The time that $VQ$ adds is $(n-1)VQ$ because it takes $nVQ$ with the glass and would take VQ without the glass (note that we're using units where $c=1$; it all factors out)\n",
    "\n",
    "We can use the same approximation from before to see that $VQ = \\frac{h^2}{2R}$\n",
    "\n",
    "$$\\frac{h^2}{2s} + \\frac{n h^2}{2 s'} = (n-1)\\frac{h^2}{2R}$$\n",
    "$$~$$\n",
    "$$\\frac{1}{2s} + \\frac{n}{2 s'} = \\frac{n-1}{2R}$$\n",
    "$$~$$\n",
    "$$\\frac{1}{s} + \\frac{n}{s'} = \\frac{n-1}{R}$$\n",
    "$$~$$\n",
    "\n",
    "The same lens will focus between any pair of points as long as $\\frac{1}{s}+\\frac{n}{s'}$ stays constant.  In particular, if $s$ approaches infinity, $s'$ will approach a focal length $f'$ and if $s'$ approaches infinity, $s$ will approach a focal length $f$.\n",
    "\n",
    "$$f' = \\frac{Rn}{n-1}$$\n",
    "$$~$$\n",
    "$$f = \\frac{R}{n-1}$$\n",
    "$$~$$\n",
    "$$\\frac{1}{s} + \\frac{n}{s'} = \\frac{1}{f}$$\n",
    "\n",
    "If $O$ is inside $f$, then you get a negative value for $s'$ which means that the rays diverge in the glass instead of coming to a point.  If $R$ approaches infinity, then $f$ approaches infinity and we get:\n",
    "\n",
    "$$\\frac{1}{s} + \\frac{n}{s'} = 0 \\quad \\Rightarrow \\quad s' = -ns$$\n",
    "\n",
    "This corresponds to a flat surface and it means that if we look from a dense medium into a rare medium, objects appear further away by a factor of $n$.  Conversely, objects in a dense medium look closer when viewed from a rare medium (e.g. water and air)."
   ]
  }
 ],
 "metadata": {
  "kernelspec": {
   "display_name": "Python 3",
   "language": "python",
   "name": "python3"
  },
  "language_info": {
   "codemirror_mode": {
    "name": "ipython",
    "version": 3
   },
   "file_extension": ".py",
   "mimetype": "text/x-python",
   "name": "python",
   "nbconvert_exporter": "python",
   "pygments_lexer": "ipython3",
   "version": "3.7.3"
  }
 },
 "nbformat": 4,
 "nbformat_minor": 2
}
