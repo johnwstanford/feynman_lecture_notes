{
 "cells": [
  {
   "cell_type": "markdown",
   "metadata": {},
   "source": [
    "The potential field due to an electric dipole can be approximated as:\n",
    "\n",
    "\\begin{align}\n",
    "\\phi(x,y,z) = \\frac{1}{4 \\pi \\epsilon_0} \\frac{p \\cos \\theta}{r^2}\n",
    "\\end{align}\n",
    "\n",
    "Where $p$ is called the dipole moment and approximately describes the electric field around a dipole at points where the distance from the dipole is large compared to the distance between the two charges forming the dipole.\n",
    "\n",
    "To see where this comes from and what approximations we made to get here, start with the equation for the electric potential due to a set of point charges:\n",
    "\n",
    "\\begin{align}\n",
    "\\phi(\\vec{x}) = \\Sigma_j \\frac{1}{4 \\pi \\epsilon_0} \\frac{q_j}{r_{xj}}\n",
    "\\end{align}\n",
    "\n",
    "Where $r_{xj}$ is the distance from charge $j$ to the point described by $\\vec{x}$"
   ]
  }
 ],
 "metadata": {
  "kernelspec": {
   "display_name": "Python 3",
   "language": "python",
   "name": "python3"
  },
  "language_info": {
   "codemirror_mode": {
    "name": "ipython",
    "version": 3
   },
   "file_extension": ".py",
   "mimetype": "text/x-python",
   "name": "python",
   "nbconvert_exporter": "python",
   "pygments_lexer": "ipython3",
   "version": "3.7.1"
  }
 },
 "nbformat": 4,
 "nbformat_minor": 2
}
